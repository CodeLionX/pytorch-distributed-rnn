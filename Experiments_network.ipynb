{
 "cells": [
  {
   "cell_type": "code",
   "execution_count": 2,
   "metadata": {},
   "outputs": [],
   "source": [
    "import numpy as np\n",
    "import matplotlib.pyplot as plt\n",
    "import json\n",
    "import re"
   ]
  },
  {
   "cell_type": "code",
   "execution_count": 3,
   "metadata": {},
   "outputs": [],
   "source": [
    "def plot_seconds_for_network(trainer, rule_type, results):\n",
    "    rule_values = sorted(list(set([result['rule_value'] for result in results if result['rule_type'] == rule_type and result['trainer'] == trainer])))\n",
    "    \n",
    "    print(rule_values)\n",
    "    seconds = np.zeros(len(rule_values))\n",
    "    \n",
    "    regex = re.compile(r'0: Memory Usage: \\d+\\.\\d+, Training Duration: (\\d+\\.\\d+)')\n",
    "\n",
    "    for result in results:\n",
    "        if result['rule_type'] == rule_type and result['trainer'] == trainer:\n",
    "            seconds[rule_values.index(result['rule_value'])] += float(regex.search(result['stderr']).group(1))\n",
    "    \n",
    "    plt.scatter(rule_values, seconds)\n",
    "\n",
    "\n",
    "#     ax.set_yticks(np.arange(len(batch_size)))\n",
    "#     ax.set_xticks(np.arange(len(nodes)))\n",
    "\n",
    "#     ax.set_yticklabels(batch_size)\n",
    "#     ax.set_xticklabels(nodes)\n",
    "    \n",
    "#     ax.set_ylabel('# of batch_size')\n",
    "#     ax.set_xlabel('# of nodes')\n",
    "\n",
    "#     for i in range(len(batch_size)):\n",
    "#         for j in range(len(nodes)):\n",
    "#             text = ax.text(\n",
    "#                 j, \n",
    "#                 i, \n",
    "#                 f'{seconds[i, j]:.1f}',\n",
    "#                 ha=\"center\", \n",
    "#                 va=\"center\", \n",
    "#                 color=\"black\"\n",
    "#             )\n",
    "\n",
    "#     ax.set_title(f'Training time ({trainer})')\n",
    "#     fig.tight_layout()\n",
    "#     plt.show()\n",
    "#     fig.savefig(f'training_time_{trainer}.png')"
   ]
  },
  {
   "cell_type": "code",
   "execution_count": 4,
   "metadata": {},
   "outputs": [],
   "source": [
    "with open('results_network.json') as f:\n",
    "    results = json.load(f)['results']"
   ]
  },
  {
   "cell_type": "code",
   "execution_count": 5,
   "metadata": {},
   "outputs": [
    {
     "name": "stdout",
     "output_type": "stream",
     "text": [
      "[0, 1, 2, 5, 10, 25, 50, 100, 200, 300, 400]\n"
     ]
    },
    {
     "data": {
      "image/png": "[encoded data removed]",
      "text/plain": [
       "<Figure size 432x288 with 1 Axes>"
      ]
     },
     "metadata": {
      "needs_background": "light"
     },
     "output_type": "display_data"
    }
   ],
   "source": [
    "plot_seconds_for_network('distributed', 'delay', results)"
   ]
  },
  {
   "cell_type": "code",
   "execution_count": 6,
   "metadata": {},
   "outputs": [
    {
     "name": "stdout",
     "output_type": "stream",
     "text": [
      "[0, 1, 2, 5, 10, 25, 50, 100, 200, 300, 400]\n"
     ]
    },
    {
     "data": {
      "image/png": "[encoded data removed]",
      "text/plain": [
       "<Figure size 432x288 with 1 Axes>"
      ]
     },
     "metadata": {
      "needs_background": "light"
     },
     "output_type": "display_data"
    }
   ],
   "source": [
    "plot_seconds_for_network('horovod', 'delay', results)"
   ]
  },
  {
   "cell_type": "code",
   "execution_count": 7,
   "metadata": {
    "scrolled": true
   },
   "outputs": [
    {
     "name": "stdout",
     "output_type": "stream",
     "text": [
      "[0, 0.1, 0.5, 1, 2, 5, 10, 15]\n"
     ]
    },
    {
     "data": {
      "image/png": "[encoded data removed]",
      "text/plain": [
       "<Figure size 432x288 with 1 Axes>"
      ]
     },
     "metadata": {
      "needs_background": "light"
     },
     "output_type": "display_data"
    }
   ],
   "source": [
    "plot_seconds_for_network('distributed', 'loss', results)"
   ]
  },
  {
   "cell_type": "code",
   "execution_count": 8,
   "metadata": {},
   "outputs": [
    {
     "name": "stdout",
     "output_type": "stream",
     "text": [
      "[0, 0.1, 0.5, 1, 2, 5, 10, 15]\n"
     ]
    },
    {
     "data": {
      "image/png": "[encoded data removed]",
      "text/plain": [
       "<Figure size 432x288 with 1 Axes>"
      ]
     },
     "metadata": {
      "needs_background": "light"
     },
     "output_type": "display_data"
    }
   ],
   "source": [
    "plot_seconds_for_network('horovod', 'loss', results)"
   ]
  },
  {
   "cell_type": "code",
   "execution_count": null,
   "metadata": {},
   "outputs": [],
   "source": []
  }
 ],
 "metadata": {
  "kernelspec": {
   "display_name": "Python 3",
   "language": "python",
   "name": "python3"
  },
  "language_info": {
   "codemirror_mode": {
    "name": "ipython",
    "version": 3
   },
   "file_extension": ".py",
   "mimetype": "text/x-python",
   "name": "python",
   "nbconvert_exporter": "python",
   "pygments_lexer": "ipython3",
   "version": "3.7.3"
  }
 },
 "nbformat": 4,
 "nbformat_minor": 2
}
